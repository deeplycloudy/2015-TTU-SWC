{
 "cells": [
  {
   "cell_type": "markdown",
   "metadata": {},
   "source": [
    "# Data management in the ocean, weather and climate sciences"
   ]
  },
  {
   "cell_type": "markdown",
   "metadata": {},
   "source": [
    "> *If you use this lesson in a bootcamp or workshop, please let me know (irving.damien (at) gmail.com). \n",
    "I'd love to keep track of where it's being used so I can update and improve the content accordingly.*"
   ]
  },
  {
   "cell_type": "markdown",
   "metadata": {},
   "source": [
    "Our previous lessons have shown us how to write programs that ingest a list of data files,\n",
    "perform some calculations on those data,\n",
    "and then print a final result to the screen. \n",
    "While this was a useful exercise in learning the principles of scripting and parsing the command line, \n",
    "in most cases the output of our programs will not be so simple. \n",
    "Instead, programs typically take data as input, \n",
    "manipulate that data, \n",
    "and then output yet more data. \n",
    "Over the course of a multi-year research project, \n",
    "most reseachers will write many different programs that produce many different output datasets. "
   ]
  },
  {
   "cell_type": "markdown",
   "metadata": {},
   "source": [
    "We want to:\n",
    "\n",
    "* Develop a personal data management plan so as to avoid confusion/calamity  \n",
    "\n",
    "Along the way, we will learn:\n",
    "\n",
    "* how to create a Data Reference Syntax\n",
    "* how to view the contents of binary files\n",
    "* about data provenance and metadata\n",
    "* about the Python libraries and command line utilities commonly used in the ocean, weather and climate sciences\n",
    "\n",
    "Additional Python libraries that need be installed:\n",
    "\n",
    "* `pip install gitpython`"
   ]
  },
  {
   "cell_type": "markdown",
   "metadata": {},
   "source": [
    "## What's in a name?"
   ]
  },
  {
   "cell_type": "markdown",
   "metadata": {},
   "source": [
    "In this lesson we are going to process some data collected by Australia's Integrated Marine Observing System ([IMOS](http://www.imos.org.au/)).\n",
    "\n",
    "First off, let's load our data:"
   ]
  },
  {
   "cell_type": "code",
   "execution_count": 1,
   "metadata": {
    "collapsed": false
   },
   "outputs": [],
   "source": [
    "from netCDF4 import Dataset\n",
    "acorn_URL = 'http://thredds.aodn.org.au/thredds/dodsC/IMOS/eMII/demos/ACORN/monthly_gridded_1h-avg-current-map_non-QC/TURQ/2012/IMOS_ACORN_V_20121001T000000Z_TURQ_FV00_monthly-1-hour-avg_END-20121029T180000Z_C-20121030T160000Z.nc.gz'\n",
    "acorn_DATA = Dataset(acorn_URL) "
   ]
  },
  {
   "cell_type": "markdown",
   "metadata": {},
   "source": [
    "The first thing to notice is the distinctive Data Reference Syntax (DRS) associated with the file. \n",
    "The staff at IMOS have archived the data according to the following directory structure:"
   ]
  },
  {
   "cell_type": "markdown",
   "metadata": {},
   "source": [
    "`http://thredds.aodn.org.au/thredds/dodsC/<project>/<organisation>/<collection>/<facility>/<data-type>/<site-code>/<year>/`"
   ]
  },
  {
   "cell_type": "markdown",
   "metadata": {},
   "source": [
    "From this we can deduce,\n",
    "without even inspecting the contents of the file,\n",
    "that we have data from the IMOS project that is run by the eMarine Information Infrastructure (eMII). \n",
    "It was collected in 2012 at the Turquoise Coast, Western Australia (TURQ) site of the Australian Coastal Ocean Radar Network (ACORN),\n",
    "which is a network of high frequency radars that measure the ocean surface current\n",
    "(see [this page](http://researchdata.ands.org.au/imos-acorn-turquoise-australia-australia/442676) \n",
    "on the Research Data Australia website for a nice overview of the dataset). \n",
    "\n",
    "The data type has a sub-DRS of its own, \n",
    "which tells us that the data represents the 1-hourly average surface current for a single month (October 2012), \n",
    "and that it is archived on a regularly spaced spatial grid and has not been quality controlled. \n",
    "The file is located in the \"demos\" directory, \n",
    "as it has been generated for the purpose of providing an example for users in the very helpful \n",
    "[Australian Ocean Data Network](http://portal.aodn.org.au/aodn/) (AODN) \n",
    "[user code library](https://github.com/aodn/imos-user-code-library).\n",
    "\n",
    "Just in case the file gets separated from this informative directory stucture, \n",
    "much of the information is repeated in the file name itself, \n",
    "along with some more detailed information about the start and end time of the data, \n",
    "and the last time the file was modified."
   ]
  },
  {
   "cell_type": "markdown",
   "metadata": {},
   "source": [
    "`<project>_<facility>_V_<time-start>_<site-code>_FV00_<data-type>_<time-end>_<modified>.nc.gz`"
   ]
  },
  {
   "cell_type": "markdown",
   "metadata": {},
   "source": [
    "In the first instance this level of detail seems like a bit of overkill, \n",
    "but consider the scope of the IMOS data archive. \n",
    "It is the final resting place for data collected by the entire national array of oceanographic observing equipment in Australia, \n",
    "which monitors the open oceans and coastal marine environment covering physical, chemical and biological variables. \n",
    "Since the data are so well labelled, \n",
    "locating all monthly timescale ACORN data from the Turquoise Coast and Rottnest Shelf sites \n",
    "(which represents hundreds of files) \n",
    "would be as simple as typing the following at the command line:      "
   ]
  },
  {
   "cell_type": "markdown",
   "metadata": {},
   "source": [
    "`ls */ACORN/monthly_*/{TURQ,ROT}/*/*.nc` "
   ]
  },
  {
   "cell_type": "markdown",
   "metadata": {},
   "source": [
    "While it's unlikely that your research will ever involve cataloging data from such a large observational network, \n",
    "it's still a very good idea to develop your own personal DRS for the data you do have. \n",
    "This often involves investing some time at the beginning of a project to think carefully about the design of your directory and file name structures, \n",
    "as these can be very hard to change later on \n",
    "(a good example is [the DRS](http://cmip-pcmdi.llnl.gov/cmip5/docs/cmip5_data_reference_syntax.pdf) \n",
    "used by the Climate Model Intercomparison Project). \n",
    "The combination of bash shell wildcards and a well planned DRS is one of the easiest ways to make your research more efficient and reliable.   "
   ]
  },
  {
   "cell_type": "markdown",
   "metadata": {},
   "source": [
    "### Challenge\n",
    "\n",
    "We haven't even looked inside our IMOS data file and already we have the beginnings of a detailed data management plan. \n",
    "The first step in any research project should be to develop such a plan, \n",
    "so for this challenge we are going to turn back time. \n",
    "If you could start your current research project all over again, \n",
    "what would your data management plan look like? \n",
    "Things to consider include:  \n",
    "\n",
    "* Data Reference Syntax\n",
    "* How long it will take to obtain the data\n",
    "* Storage and backup (here's a [post](http://drclimate.wordpress.com/2013/04/16/backing-up-your-work/) with some backup ideas)\n",
    "\n",
    "Write down and discuss your plan with your partner.\n"
   ]
  },
  {
   "cell_type": "markdown",
   "metadata": {},
   "source": [
    "## Binary file formats"
   ]
  },
  {
   "cell_type": "markdown",
   "metadata": {},
   "source": [
    "We can guess from the `.nc` extension that we are dealing with a Network Common Data Form (netCDF) file. \n",
    "It's also compressed, hence the `.gz`. \n",
    "Had we actually downloaded the file to our computer and uncompressed it, \n",
    "our initial impulse might have been to type, \n",
    "\n",
    "    !cat IMOS_ACORN_V_20121001T000000Z_TURQ_FV00_monthly-1-hour-avg_END-20121029T180000Z_C-20121030T160000Z.nc\n",
    "\n",
    "but such a command would produce an incomprehensible mix symbols and letters. \n",
    "The reason is that up until now, \n",
    "we have been dealing with [text files](http://en.wikipedia.org/wiki/Text_file). \n",
    "These consist of a simple sequence of character data \n",
    "(represented using ASCII, Unicode, or some other standard) \n",
    "separated into lines, \n",
    "meaning that text files are human-readable when opened with a text editor or displayed using `cat`."
   ]
  },
  {
   "cell_type": "markdown",
   "metadata": {},
   "source": [
    "All other file types (including netCDF) are known collectively as [binary files](http://en.wikipedia.org/wiki/Binary_file). \n",
    "They tend to be smaller and faster for the computer to interpret than text files, \n",
    "but the payoff is that they aren't human-readable unless you have the right intpreter \n",
    "(e.g. `.doc` files aren't readable with your text editor and must instead be opened with Microsoft Word). \n",
    "To view the contents of a netCDF file we'd need to use a special command line utility called \n",
    "[`ncdump`](http://www.unidata.ucar.edu/software/netcdf/docs/netcdf/ncdump.html), \n",
    "which is included with the netCDF C software \n",
    "(i.e. if you're using any software that knows how to deal with netCDF - \n",
    "such as the Anaconda scientific Python distribution \n",
    "[used in Software Carpentry workshops](http://software-carpentry.org/v5/setup.html) -\n",
    "then you probably have `ncdump` installed without even knowing it).   "
   ]
  },
  {
   "cell_type": "markdown",
   "metadata": {},
   "source": [
    "For this example, however, we haven't actually downloaded the netCDF file to our machine. \n",
    "Instead, IMOS has made the data available via a THREDDS server, \n",
    "which means we can just pass a URL to the `netCDF4.Dataset` function in order to obtain the data. "
   ]
  },
  {
   "cell_type": "code",
   "execution_count": 2,
   "metadata": {
    "collapsed": false
   },
   "outputs": [
    {
     "name": "stdout",
     "output_type": "stream",
     "text": [
      "<type 'netCDF4.Dataset'>\n",
      "root group (NETCDF3_64BIT data model, file format UNDEFINED):\n",
      "    project: Integrated Marine Observing System (IMOS)\n",
      "    Conventions: IMOS version 1.3\n",
      "    institution: Australian Coastal Ocean Radar Network (ACORN)\n",
      "    title: IMOS ACORN Turquoise Coast site (WA) (TURQ), monthly aggregation of one hour averaged current data\n",
      "    instrument: CODAR Ocean Sensors/SeaSonde\n",
      "    site_code: TURQ, Turqoise Coast\n",
      "    ssr_Stations: SeaBird (SBRD), Cervantes (CRVT)\n",
      "    id: IMOS/ACORN/au/TURQ/2012-10-08T15:00:00Z.sea_state\n",
      "    date_created: 2012-10-30T16:31:50Z\n",
      "    abstract: These data have not been quality controlled. The ACORN facility is producing NetCDF files with radials data for each station every ten minutes.  Radials represent the surface sea water state component  along the radial direction from the receiver antenna  and are calculated from the shift of an area under  the bragg peaks in a Beam Power Spectrum.  The radial values have been calculated using software provided  by the manufacturer of the instrument. eMII is using a Matlab program to read all the netcdf files with radial data for two different stations  and produce a one hour average product with U and V components of the current. The final product is produced on a regular geographic (latitude longitude) grid More information on the data processing is available through the IMOS MEST  http://imosmest.aodn.org.au/geonetwork/srv/en/main.home. This file is an aggregation over a month of distinct hourly averaged files.\n",
      "    history: 2012-10-09T03:31:35 Convert totl_TURQ_2012_10_08_1500.tuv to netcdf format using CODAR_Convert_File.\n",
      "2012-10-09T03:31:36 Write CODAR file totl_TURQ_2012_10_08_1500.tuv. Modification of the NetCDF format by eMII to visualise the data using ncWMS �\n",
      "\t0x0006 %\n",
      "    source: Terrestrial HF radar\n",
      "    keywords: Oceans\n",
      "    netcdf_version: 3.6\n",
      "    naming_authority: Integrated Marine Observing System (IMOS)\n",
      "    quality_control_set: 1\n",
      "    file_version: Level 0 - Raw data\n",
      "    file_version_quality_control: Data in this file has not been quality controlled\n",
      "    geospatial_lat_min: [-29.5386582 -29.5927878 -29.6469169 -29.7010456 -29.7551738 -29.8093016\n",
      " -29.863429  -29.9175559 -29.9716823 -30.0258084 -30.0799339 -30.1340591\n",
      " -30.1881837 -30.242308  -30.2964318 -30.3505551 -30.404678  -30.4588004\n",
      " -30.5129224 -30.5670439 -30.621165  -30.6752857 -30.7294059 -30.7835256\n",
      " -30.8376449 -30.8917637 -30.9458821 -31.        -31.0541175 -31.1082345\n",
      " -31.162351  -31.2164671 -31.2705828 -31.324698  -31.3788127 -31.432927\n",
      " -31.4870408 -31.5411542 -31.5952671 -31.6493795 -31.7034915 -31.7576031\n",
      " -31.8117141 -31.8658247 -31.9199349 -31.9740446 -32.0281538 -32.0822625\n",
      " -32.1363708 -32.1904787 -32.244586  -32.2986929 -32.3527994 -32.4069054\n",
      " -32.4610109]\n",
      "    geospatial_lat_max: [-29.5252994 -29.5794147 -29.6335296 -29.687644  -29.741758  -29.7958715\n",
      " -29.8499845 -29.904097  -29.9582091 -30.0123207 -30.0664318 -30.1205425\n",
      " -30.1746527 -30.2287624 -30.2828717 -30.3369805 -30.3910888 -30.4451966\n",
      " -30.499304  -30.5534109 -30.6075173 -30.6616232 -30.7157287 -30.7698337\n",
      " -30.8239382 -30.8780423 -30.9321458 -30.9862489 -31.0403515 -31.0944536\n",
      " -31.1485553 -31.2026564 -31.2567571 -31.3108573 -31.364957  -31.4190563\n",
      " -31.473155  -31.5272533 -31.5813511 -31.6354484 -31.6895452 -31.7436416\n",
      " -31.7977374 -31.8518328 -31.9059277 -31.960022  -32.0141159 -32.0682094\n",
      " -32.1223023 -32.1763947 -32.2304867 -32.2845781 -32.3386691 -32.3927596\n",
      " -32.4468495]\n",
      "    geospatial_lat_units: degrees_north\n",
      "    geospatial_lon_min: [ 112.3100111  112.3090067  112.3080002  112.3069914  112.3059805\n",
      "  112.3049674  112.3039521  112.3029346  112.3019149  112.3008929\n",
      "  112.2998688  112.2988424  112.2978139  112.2967831  112.29575\n",
      "  112.2947147  112.2936772  112.2926374  112.2915953  112.290551\n",
      "  112.2895044  112.2884556  112.2874044  112.286351   112.2852953\n",
      "  112.2842373  112.283177   112.2821143  112.2810494  112.2799821\n",
      "  112.2789125  112.2778406  112.2767663  112.2756897  112.2746108\n",
      "  112.2735294  112.2724458  112.2713597  112.2702713  112.2691805\n",
      "  112.2680873  112.2669917  112.2658937  112.2647933  112.2636905\n",
      "  112.2625853  112.2614777  112.2603676  112.2592551  112.2581402\n",
      "  112.2570228  112.2559029  112.2547806  112.2536558  112.2525286]\n",
      "    geospatial_lon_max: [ 115.7758038  115.7766744  115.7775469  115.7784212  115.7792975\n",
      "  115.7801756  115.7810557  115.7819376  115.7828215  115.7837073\n",
      "  115.784595   115.7854846  115.7863762  115.7872697  115.7881651\n",
      "  115.7890625  115.7899618  115.7908631  115.7917663  115.7926715\n",
      "  115.7935787  115.7944878  115.7953989  115.796312   115.7972271\n",
      "  115.7981441  115.7990632  115.7999843  115.8009074  115.8018325\n",
      "  115.8027596  115.8036887  115.8046199  115.8055531  115.8064883\n",
      "  115.8074256  115.8083649  115.8093063  115.8102497  115.8111952\n",
      "  115.8121427  115.8130924  115.8140441  115.8149979  115.8159538\n",
      "  115.8169118  115.8178719  115.8188341  115.8197984  115.8207648\n",
      "  115.8217334  115.822704   115.8236768  115.8246518  115.8256289]\n",
      "    geospatial_lon_units: degrees_east\n",
      "    geospatial_vertical_min: 0.0\n",
      "    geospatial_vertical_max: 0.0\n",
      "    geospatial_vertical_units: m\n",
      "    time_coverage_start: 2012-10-01T00:00:00Z\n",
      "    time_coverage_duration: PT1H19M\n",
      "    local_time_zone: 8.0\n",
      "    data_centre_email: info@emii.org.au\n",
      "    data_centre: eMarine Information Infrastructure (eMII)\n",
      "    author: Besnard, Laurent\n",
      "    author_email: laurent.besnard@utas.edu.au\n",
      "    institution_references: http://www.imos.org.au/acorn.html\n",
      "    principal_investigator: Wyatt, Lucy\n",
      "    citation: Citation to be used in publications should follow the format:\"IMOS.[year-of-data-download],[Title],[Data access URL],accessed [date-of-access]\"\n",
      "    acknowledgment: Data was sourced from the Integrated Marine Observing System (IMOS) - IMOS is supported by the Australian Government through the National Collaborative Research Infrastructure Strategy (NCRIS) and the Super Science Initiative (SSI).\n",
      "    distribution_statement: Data may be re-used, provided that related metadata explaining the data has been reviewed by the user, and the data is appropriately acknowledged. Data, products and services from IMOS are provided \"as is\" without any warranty as to fitness for a particular purpose.\n",
      "    comment: These data have not been quality controlled. They represent values calculated using software provided by CODAR Ocean Sensors. The file has been modified by eMII in order to visualise the data using the ncWMS software.This NetCDF file has been created using the IMOS NetCDF User Manual v1.2. A copy of the document is available at http://imos.org.au/facility_manuals.html\n",
      "    data_center: eMarine Information Infrastructure (eMII)\n",
      "    date_modified: 2012-10-30T16:31:50Z\n",
      "    time_coverage_end: 2012-10-29T18:00:00Z\n",
      "    featureType: grid\n",
      "    data_center_email: info@emii.org.au\n",
      "    acknowledgement: Data was sourced from Integrated Marine Observing System (IMOS) - an initiative of the Australian Government being conducted as part of the National Calloborative Research Infrastructure Strategy.\n",
      "    dimensions(sizes): I(55), J(57), TIME(493)\n",
      "    variables(dimensions): float64 \u001b[4mLATITUDE\u001b[0m(I,J), float64 \u001b[4mLONGITUDE\u001b[0m(I,J), int8 \u001b[4mLATITUDE_quality_control\u001b[0m(I,J), int8 \u001b[4mLONGITUDE_quality_control\u001b[0m(I,J), float64 \u001b[4mTIME\u001b[0m(TIME), float32 \u001b[4mSPEED\u001b[0m(TIME,I,J), float32 \u001b[4mUCUR\u001b[0m(TIME,I,J), float32 \u001b[4mVCUR\u001b[0m(TIME,I,J), int8 \u001b[4mTIME_quality_control\u001b[0m(TIME), int8 \u001b[4mSPEED_quality_control\u001b[0m(TIME,I,J), int8 \u001b[4mUCUR_quality_control\u001b[0m(TIME,I,J), int8 \u001b[4mVCUR_quality_control\u001b[0m(TIME,I,J)\n",
      "    groups: \n",
      "\n"
     ]
    }
   ],
   "source": [
    "print acorn_DATA"
   ]
  },
  {
   "cell_type": "markdown",
   "metadata": {},
   "source": [
    "The great thing about netCDF files is that they contain [metadata](http://en.wikipedia.org/wiki/Metadata) - \n",
    "that is, data about the data. \n",
    "There are global attributes that give information about the file as a whole \n",
    "(shown above - we will come back to these later), \n",
    "while each variable also has its own attributes."
   ]
  },
  {
   "cell_type": "code",
   "execution_count": 3,
   "metadata": {
    "collapsed": false
   },
   "outputs": [
    {
     "name": "stdout",
     "output_type": "stream",
     "text": [
      "The file contains the following variables:\n",
      "[u'LATITUDE', u'LONGITUDE', u'LATITUDE_quality_control', u'LONGITUDE_quality_control', u'TIME', u'SPEED', u'UCUR', u'VCUR', u'TIME_quality_control', u'SPEED_quality_control', u'UCUR_quality_control', u'VCUR_quality_control']\n"
     ]
    }
   ],
   "source": [
    "print 'The file contains the following variables:'\n",
    "print acorn_DATA.variables.keys()"
   ]
  },
  {
   "cell_type": "markdown",
   "metadata": {},
   "source": [
    "(The 'u' means each variable name is represented by a Unicode string.) "
   ]
  },
  {
   "cell_type": "code",
   "execution_count": 4,
   "metadata": {
    "collapsed": false
   },
   "outputs": [
    {
     "name": "stdout",
     "output_type": "stream",
     "text": [
      "These are the attributes of the time axis:\n",
      "<type 'netCDF4.Variable'>\n",
      "float64 TIME(TIME)\n",
      "    standard_name: time\n",
      "    long_name: time\n",
      "    units: days since 1950-01-01 00:00:00\n",
      "    axis: T\n",
      "    valid_min: 0.0\n",
      "    valid_max: 999999.0\n",
      "    _FillValue: -9999.0\n",
      "    calendar: gregorian\n",
      "    comment: Given time lays at the middle of the averaging time period.\n",
      "    local_time_zone: 8.0\n",
      "unlimited dimensions: \n",
      "current shape = (493,)\n",
      "filling off\n",
      "\n",
      "These are some of the time values:\n",
      "[ 22919.          22919.04166667  22919.08333333  22919.125       22919.16666667\n",
      "  22919.20833333  22919.25        22919.29166667  22919.33333333  22919.375     ]\n"
     ]
    }
   ],
   "source": [
    "print 'These are the attributes of the time axis:'\n",
    "print acorn_DATA.variables['TIME']\n",
    "print 'These are some of the time values:'\n",
    "print acorn_DATA.variables['TIME'][0:10]"
   ]
  },
  {
   "cell_type": "markdown",
   "metadata": {},
   "source": [
    "The raw time values are fairly meaningless, \n",
    "but we can use the time attributes to convert them to a more meaningful format..."
   ]
  },
  {
   "cell_type": "code",
   "execution_count": 5,
   "metadata": {
    "collapsed": false
   },
   "outputs": [
    {
     "name": "stdout",
     "output_type": "stream",
     "text": [
      "[datetime.datetime(2012, 10, 1, 0, 0) datetime.datetime(2012, 10, 1, 1, 0)\n",
      " datetime.datetime(2012, 10, 1, 2, 0) datetime.datetime(2012, 10, 1, 3, 0)\n",
      " datetime.datetime(2012, 10, 1, 4, 0) datetime.datetime(2012, 10, 1, 5, 0)\n",
      " datetime.datetime(2012, 10, 1, 6, 0) datetime.datetime(2012, 10, 1, 7, 0)\n",
      " datetime.datetime(2012, 10, 1, 8, 0) datetime.datetime(2012, 10, 1, 9, 0)]\n"
     ]
    }
   ],
   "source": [
    "from netCDF4 import num2date\n",
    "units = acorn_DATA.variables['TIME'].units\n",
    "calendar = acorn_DATA.variables['TIME'].calendar\n",
    "\n",
    "times = num2date(acorn_DATA.variables['TIME'][:], units=units, calendar=calendar)\n",
    "print times[0:10]"
   ]
  },
  {
   "cell_type": "markdown",
   "metadata": {},
   "source": [
    "> ### Climate and Forecast (CF) metadata convention\n",
    ">\n",
    "> When performing simple data analysis tasks on netCDF files, \n",
    "command line tools like the Climate Data Operators \n",
    "([CDO](https://code.zmaw.de/projects/cdo)) \n",
    "are often a better alternative to writing your own functions in Python. \n",
    "However, let's put ourselves in the shoes of the developers of CDO for a minute. \n",
    "In order to calculate the time mean of a dataset for a given start and end date (for example), \n",
    "CDO must first identify the units of the time axis. \n",
    "This isn't as easy as you'd think, \n",
    "since the creator of the netCDF file could easily have called the `units` attribute `measure`, \n",
    "or `scale`, or something else completely unpredictable. \n",
    "They could also have defined the units as `weeks since 1-01-01 00:00:00` or `milliseconds after 1979-12-31`. \n",
    "Obviously what is needed is a standard method for defining netCDF attributes, \n",
    "and that’s where the [Climate and Forecast (CF) metadata convention](http://cf-pcmdi.llnl.gov/) comes in.\n",
    "\n",
    "> The CF metadata standard was first defined back in the early 2000s and has now been adopted by all the major institutions and projects in the weather/climate sciences. \n",
    "There's a nice [blog post](http://drclimate.wordpress.com/2014/06/09/are-you-cf-compliant/) on the topic if you'd like more information, \n",
    "but for the most part you just need to be aware that if a tool like CDO isn't working, \n",
    "it might be because your netCDF file isn't CF compliant."
   ]
  },
  {
   "cell_type": "markdown",
   "metadata": {},
   "source": [
    "## Calculating the current speed"
   ]
  },
  {
   "cell_type": "markdown",
   "metadata": {},
   "source": [
    "For the sake of example, \n",
    "let's say that our data file contained the zonal (east/west; 'UCUR') and meridional (north/south; 'VCUR') surface current components, \n",
    "but not the total current speed. \n",
    "To calculate it, \n",
    "we first need to assign a variable to the zonal and meridional current data. "
   ]
  },
  {
   "cell_type": "code",
   "execution_count": 6,
   "metadata": {
    "collapsed": false
   },
   "outputs": [],
   "source": [
    "uData = acorn_DATA.variables['UCUR'][:,:,:]\n",
    "vData = acorn_DATA.variables['VCUR'][:,:,:]"
   ]
  },
  {
   "cell_type": "markdown",
   "metadata": {},
   "source": [
    "Both `uData` and `vData` are a special type of numpy array \n",
    "(which we have [met previously](http://www.software-carpentry.org/v5/novice/python/01-numpy.html)) \n",
    "known as a masked array, \n",
    "whereby some of the points in the time/latitude/longitude grid have missing (or masked) values. \n",
    "Just as with a normal numpy array, \n",
    "we can check the shape of our data \n",
    "(in fact, masked arrays can do everything normal numpy arrays can do and more)."
   ]
  },
  {
   "cell_type": "code",
   "execution_count": 7,
   "metadata": {
    "collapsed": false
   },
   "outputs": [
    {
     "name": "stdout",
     "output_type": "stream",
     "text": [
      "<class 'numpy.ma.core.MaskedArray'>\n",
      "(493, 55, 57)\n"
     ]
    }
   ],
   "source": [
    "print type(uData)\n",
    "print uData.shape"
   ]
  },
  {
   "cell_type": "markdown",
   "metadata": {},
   "source": [
    "In other words, 493 time steps, 55 latitudes and 57 longitudes. \n",
    "We can now go ahead and calculate the current speed."
   ]
  },
  {
   "cell_type": "code",
   "execution_count": 8,
   "metadata": {
    "collapsed": false
   },
   "outputs": [],
   "source": [
    "spData = (uData**2 + vData**2)**0.5"
   ]
  },
  {
   "cell_type": "markdown",
   "metadata": {},
   "source": [
    "### Viewing the result"
   ]
  },
  {
   "cell_type": "markdown",
   "metadata": {},
   "source": [
    "It's a good idea to regularly view your data throughout the code development process, \n",
    "just to ensure nothing that crazy has happened along the way. \n",
    "Below is a code except from \n",
    "[this example](https://github.com/aodn/imos-user-code-library/blob/master/Python/demos/acorn.py) \n",
    "in the AODN user code library, \n",
    "which simply plots one of the 493 timesteps."
   ]
  },
  {
   "cell_type": "code",
   "execution_count": 9,
   "metadata": {
    "collapsed": false
   },
   "outputs": [
    {
     "data": {
      "image/png": "[encoded data removed]",
      "text/plain": [
       "<matplotlib.figure.Figure at 0x109451fd0>"
      ]
     },
     "metadata": {},
     "output_type": "display_data"
    }
   ],
   "source": [
    "%matplotlib inline\n",
    "from matplotlib.pyplot import figure, pcolor, colorbar, xlabel, ylabel, title, draw, quiver, show, savefig\n",
    "\n",
    "LAT = acorn_DATA.variables['LATITUDE']\n",
    "LON = acorn_DATA.variables['LONGITUDE']\n",
    "TIME = acorn_DATA.variables['TIME']\n",
    "\n",
    "# Only one time value is being plotted. modify timeIndex if desired (value between 0 and length(timeData)-1 )\n",
    "timeIndex = 4\n",
    "speedData = spData[timeIndex,:,:]\n",
    "latData = LAT[:]\n",
    "lonData = LON[:]\n",
    "\n",
    "# sea water U and V components\n",
    "uData = acorn_DATA.variables['UCUR'][timeIndex,:,:]\n",
    "vData = acorn_DATA.variables['VCUR'][timeIndex,:,:]\n",
    "units = acorn_DATA.variables['UCUR'].units\n",
    "\n",
    "figure1 = figure(figsize=(12, 9), dpi=80, facecolor='w', edgecolor='k')\n",
    "pcolor(lonData , latData, speedData)\n",
    "cbar = colorbar()\n",
    "cbar.ax.set_ylabel('Current speed in ' + units)\n",
    "\n",
    "title(acorn_DATA.title + '\\n' + num2date(TIME[timeIndex], TIME.units, TIME.calendar).strftime('%d/%m/%Y'))\n",
    "xlabel(LON.long_name + ' in ' + LON.units)\n",
    "ylabel(LAT.long_name + ' in ' + LAT.units)\n",
    "\n",
    "# plot velocity field\n",
    "Q = quiver(lonData[:], latData[:], uData, vData, units='width')\n",
    "show()\n",
    "#savefig('surface_current.svg', bbox_inches='tight')"
   ]
  },
  {
   "cell_type": "markdown",
   "metadata": {},
   "source": [
    "> ### Plotting options\n",
    ">\n",
    "> Quite a few lines of code were required to create our publication quality figure using [matplotlib](http://matplotlib.org/), \n",
    "and there would have been even more had we wanted to use the [basemap](http://matplotlib.org/basemap/) library to plot coastlines or change the map projection. \n",
    "Recognising this burden, \n",
    "the team at the UK Met Office have developed [Iris](http://scitools.org.uk/iris/) and [Cartopy](http://scitools.org.uk/cartopy/), \n",
    "which build on matplotlib and basemap to provide a more convenient interface \n",
    "(read: shorter, less complex code) \n",
    "for plotting in the weather, climate and ocean sciences.\n",
    ">\n",
    "> The easiest way to install Iris and Cartopy is to use the [conda](http://www.continuum.io/blog/conda) package installer that comes with Anaconda. Simply enter the following at the command line:  \n",
    "> `conda install -c scitools iris`\n",
    ">\n",
    "> What if you want to view the contents of a netCDF file quickly, \n",
    "rather than go to the effort of producing something that is publication quality?\n",
    "There are numerous tools out there for doing this, \n",
    "including [Panoply](http://www.giss.nasa.gov/tools/panoply/) \n",
    "and [UV-CDAT](http://uvcdat.llnl.gov/).\n"
   ]
  },
  {
   "cell_type": "markdown",
   "metadata": {},
   "source": [
    "### Challenge\n",
    "\n",
    "Let's say (hypothetically) that the TURQ site radar has been found to be unreliable for surface current speeds greater than 0.9 m/s.\n",
    "To correct for this problem, \n",
    "the IMOS documentation suggests setting all values greater than 0.9 m/s, back to 0.9 m/s. \n",
    "The most obvious solution to this problem would be to loop through every element in `spData` and check its value:\n",
    "\n",
    "    for t in range(0, len(TIME[:])):\n",
    "        for y in range(0, len(LAT[:])):\n",
    "            for x in range(0, len(LON[:])):\n",
    "                if spData[t, y, x] > 0.9:\n",
    "                    spData[t, y, x] = 0.9\n",
    "\n",
    "The problem is that not only is this nested loop kind of ugly, it's also pretty slow. \n",
    "If our data array was even larger \n",
    "(e.g. like the huge data arrays that high resolution global climate models produce), \n",
    "then it would probably be prohibitively slow.\n",
    "The reason is that *high level* languages like Python and Matlab are built for usability \n",
    "(i.e. they make it easy to write concise, readable code), not speed. \n",
    "To get around this problem, \n",
    "people have written Python libraries (like `numpy`) in *low level* languages like C and Fortran, \n",
    "which are built for speed (but definitely not usability). \n",
    "Fortunately we don't ever need to see the C code under the hood of the `numpy` library, \n",
    "but we should use it to [vectorise](http://en.wikipedia.org/wiki/Array_programming) our array operations whenever possible. \n",
    "\n",
    "With this in mind:\n",
    "\n",
    "* Use the `numpy.ma.where()` function to correct all values in `spData` greater than 0.9 (hint: you'll need to `import numpy.ma`)\n",
    "* Use the `%timeit` cell magic to compare the speed of your answer to the nested loop described above "
   ]
  },
  {
   "cell_type": "markdown",
   "metadata": {},
   "source": [
    "## Data provenance"
   ]
  },
  {
   "cell_type": "markdown",
   "metadata": {},
   "source": [
    "Now that we've developed some code for reading in zonal and meridional surface current data and calculating the speed, \n",
    "the logical next step is to put that code in a script called `calc_current_speed.py` so that we can repeat the process quickly and easily."
   ]
  },
  {
   "cell_type": "markdown",
   "metadata": {},
   "source": [
    "The output of that script will be a new netCDF file containing the current speed data, \n",
    "however there's one more thing to consider before we go ahead and start creating new files. \n",
    "Looking closely at the global attributes of \n",
    "`IMOS_ACORN_V_20121001T000000Z_TURQ_FV00_monthly-1-hour-avg_END-20121029T180000Z_C-20121030T160000Z.nc` \n",
    "you can see that the entire history of the file, \n",
    "all the way back to its initial download, \n",
    "has been recorded in the `history` attribute."
   ]
  },
  {
   "cell_type": "code",
   "execution_count": 10,
   "metadata": {
    "collapsed": false
   },
   "outputs": [
    {
     "name": "stdout",
     "output_type": "stream",
     "text": [
      "2012-10-09T03:31:35 Convert totl_TURQ_2012_10_08_1500.tuv to netcdf format using CODAR_Convert_File.\n",
      "2012-10-09T03:31:36 Write CODAR file totl_TURQ_2012_10_08_1500.tuv. Modification of the NetCDF format by eMII to visualise the data using ncWMS �\n",
      "\t0x0006 %\n"
     ]
    }
   ],
   "source": [
    "print acorn_DATA.history"
   ]
  },
  {
   "cell_type": "markdown",
   "metadata": {},
   "source": [
    "This practice of recording the history of the file ensures the [provenance](http://en.wikipedia.org/wiki/Provenance) of the data.\n",
    "In other words, a complete record of everything that has been done to the data is stored with the data, \n",
    "which avoids any confusion in the event that the data is ever moved, \n",
    "passed around to different users,\n",
    "or viewed by its creator many months later.  \n",
    "\n",
    "If we want to create our own entry for the history attribute, \n",
    "we'll need to be able to create a: \n",
    "\n",
    "* Time stamp\n",
    "* Record of what was entered at the command line in order to execute `calc_current_speed.py`\n",
    "* Method of indicating which verion of the script was run (i.e. because the script is in our git repository)"
   ]
  },
  {
   "cell_type": "markdown",
   "metadata": {},
   "source": [
    "### Time stamp"
   ]
  },
  {
   "cell_type": "markdown",
   "metadata": {},
   "source": [
    "A library called `datetime` can be used to find out the time and date right now:"
   ]
  },
  {
   "cell_type": "code",
   "execution_count": 11,
   "metadata": {
    "collapsed": false
   },
   "outputs": [
    {
     "name": "stdout",
     "output_type": "stream",
     "text": [
      "2015-07-09T14:05:15\n"
     ]
    }
   ],
   "source": [
    "import datetime\n",
    " \n",
    "time_stamp = datetime.datetime.now().strftime(\"%Y-%m-%dT%H:%M:%S\")\n",
    "print time_stamp"
   ]
  },
  {
   "cell_type": "markdown",
   "metadata": {},
   "source": [
    "The `strftime` function can be used to customise the appearance of a datetime object;\n",
    "in this case we've made it look just like the other time stamps in our data file."
   ]
  },
  {
   "cell_type": "markdown",
   "metadata": {},
   "source": [
    "### Command line record"
   ]
  },
  {
   "cell_type": "markdown",
   "metadata": {},
   "source": [
    "In the Software Carpentry [lesson on command line programs](http://www.software-carpentry.org/v5/novice/python/06-cmdline.html) we met `sys.argv`, \n",
    "which contains all the arguments entered by the user at the command line:"
   ]
  },
  {
   "cell_type": "code",
   "execution_count": 12,
   "metadata": {
    "collapsed": false
   },
   "outputs": [
    {
     "name": "stdout",
     "output_type": "stream",
     "text": [
      "['/Users/damienirving/anaconda/lib/python2.7/site-packages/IPython/kernel/__main__.py', '-f', '/Users/damienirving/.ipython/profile_default/security/kernel-f075be68-49e0-464e-8111-c88ff7365bff.json', '--profile-dir', '/Users/damienirving/.ipython/profile_default']\n"
     ]
    }
   ],
   "source": [
    "import sys\n",
    "print sys.argv"
   ]
  },
  {
   "cell_type": "markdown",
   "metadata": {},
   "source": [
    "In launching this IPython notebook,\n",
    "you can see that a number of command line arguments were used. \n",
    "To join all these list elements up, \n",
    "we can use the `join` function that belongs to Python strings:"
   ]
  },
  {
   "cell_type": "code",
   "execution_count": 13,
   "metadata": {
    "collapsed": false
   },
   "outputs": [
    {
     "name": "stdout",
     "output_type": "stream",
     "text": [
      "/Users/damienirving/anaconda/lib/python2.7/site-packages/IPython/kernel/__main__.py -f /Users/damienirving/.ipython/profile_default/security/kernel-f075be68-49e0-464e-8111-c88ff7365bff.json --profile-dir /Users/damienirving/.ipython/profile_default\n"
     ]
    }
   ],
   "source": [
    "args = \" \".join(sys.argv)\n",
    "print args"
   ]
  },
  {
   "cell_type": "markdown",
   "metadata": {},
   "source": [
    "While this list of arguments is very useful, \n",
    "it doesn't tell us which Python installation was used to execute those arguments. \n",
    "The `sys` library can help us out here too:"
   ]
  },
  {
   "cell_type": "code",
   "execution_count": 14,
   "metadata": {
    "collapsed": false
   },
   "outputs": [
    {
     "name": "stdout",
     "output_type": "stream",
     "text": [
      "/Users/damienirving/anaconda/bin/python\n"
     ]
    }
   ],
   "source": [
    "exe = sys.executable\n",
    "print exe "
   ]
  },
  {
   "cell_type": "markdown",
   "metadata": {},
   "source": [
    "### Git hash"
   ]
  },
  {
   "cell_type": "markdown",
   "metadata": {},
   "source": [
    "In the Software Carpentry [lessons on git](http://www.software-carpentry.org/v5/novice/git/index.html) we learned that each commit is associated with a unique 40-character identifier known as a hash. \n",
    "We can use the git Python library to get the hash associated with the script:"
   ]
  },
  {
   "cell_type": "code",
   "execution_count": 15,
   "metadata": {
    "collapsed": false
   },
   "outputs": [
    {
     "name": "stdout",
     "output_type": "stream",
     "text": [
      "206d0657d34cf8bd5366e35de8b5dc843938145e\n"
     ]
    }
   ],
   "source": [
    "from git import Repo\n",
    "import os\n",
    "\n",
    "git_hash = Repo(os.getcwd()).heads[0].commit\n",
    "print git_hash"
   ]
  },
  {
   "cell_type": "markdown",
   "metadata": {},
   "source": [
    "We can now put all this information together for our history entry: "
   ]
  },
  {
   "cell_type": "code",
   "execution_count": 16,
   "metadata": {
    "collapsed": false
   },
   "outputs": [
    {
     "name": "stdout",
     "output_type": "stream",
     "text": [
      "2015-07-09T14:05:15: /Users/damienirving/anaconda/bin/python /Users/damienirving/anaconda/lib/python2.7/site-packages/IPython/kernel/__main__.py -f /Users/damienirving/.ipython/profile_default/security/kernel-f075be68-49e0-464e-8111-c88ff7365bff.json --profile-dir /Users/damienirving/.ipython/profile_default (Git hash: 206d065)\n"
     ]
    }
   ],
   "source": [
    "entry = \"\"\"%s: %s %s (Git hash: %s)\"\"\" %(time_stamp, exe, args, str(git_hash)[0:7])\n",
    "print entry"
   ]
  },
  {
   "cell_type": "markdown",
   "metadata": {},
   "source": [
    "## Putting it all together"
   ]
  },
  {
   "cell_type": "markdown",
   "metadata": {},
   "source": [
    "So far we've been experimenting in the IPython notebook to familiarise ourselves with `netCDF4` and the other Python libraries that might be useful for calculating the surface current speed.\n",
    "We should now go ahead and write a script, \n",
    "so we can repeat the process with a single entry at the command line:  "
   ]
  },
  {
   "cell_type": "code",
   "execution_count": 17,
   "metadata": {
    "collapsed": false
   },
   "outputs": [
    {
     "name": "stdout",
     "output_type": "stream",
     "text": [
      "import os, sys, argparse\r\n",
      "import datetime\r\n",
      "from git import Repo\r\n",
      "from netCDF4 import Dataset\r\n",
      "\r\n",
      "\r\n",
      "def calc_speed(u, v):\r\n",
      "    \"\"\"Calculate the speed\"\"\"\r\n",
      "\r\n",
      "    speed = (u**2 + v**2)**0.5\r\n",
      "\r\n",
      "    return speed\r\n",
      "\r\n",
      "\r\n",
      "def copy_dimensions(infile, outfile):\r\n",
      "    \"\"\"Copy the dimensions of the infile to the outfile\"\"\"\r\n",
      "        \r\n",
      "    for dimName, dimData in infile.dimensions.iteritems():\r\n",
      "        outfile.createDimension(dimName, len(dimData))\r\n",
      "\r\n",
      "\r\n",
      "def copy_variables(infile, outfile):\r\n",
      "    \"\"\"Create variables corresponding to the file dimensions \r\n",
      "    by copying from infile\"\"\"\r\n",
      "            \r\n",
      "    for var_name in ['TIME', 'LATITUDE', 'LONGITUDE']:\r\n",
      "        varin = infile.variables[var_name]\r\n",
      "        outVar = outfile.createVariable(var_name, varin.datatype, \r\n",
      "                                        varin.dimensions, \r\n",
      "                                        fill_value=varin._FillValue)\r\n",
      "        outVar[:] = varin[:]\r\n",
      "            \r\n",
      "        var_atts = {}\r\n",
      "        for att in varin.ncattrs():\r\n",
      "            if not att == '_FillValue':\r\n",
      "                var_atts[att] = eval('varin.'+att) \r\n",
      "        outVar.setncatts(var_atts)\r\n",
      "\r\n",
      "\r\n",
      "def create_history():\r\n",
      "    \"\"\"Create the new entry for the global history file attribute\"\"\"\r\n",
      "\r\n",
      "    time_stamp = datetime.datetime.now().strftime(\"%Y-%m-%dT%H:%M:%S\")\r\n",
      "    exe = sys.executable\r\n",
      "    args = \" \".join(sys.argv)\r\n",
      "    git_hash = Repo(os.getcwd()).heads[0].commit\r\n",
      "\r\n",
      "    return \"\"\"%s: %s %s (Git hash: %s)\"\"\" %(time_stamp, exe, args, str(git_hash)[0:7])\r\n",
      "\r\n",
      "\r\n",
      "def read_data(ifile, uVar, vVar):\r\n",
      "    \"\"\"Read data from ifile corresponding to the U and V variable\"\"\"\r\n",
      "\r\n",
      "    input_DATA = Dataset(ifile)\r\n",
      "    uData = input_DATA.variables[uVar][:]\r\n",
      "    vData = input_DATA.variables[vVar][:]\r\n",
      "\r\n",
      "    return uData, vData, input_DATA\r\n",
      "\r\n",
      "\r\n",
      "def set_global_atts(infile, outfile):\r\n",
      "    \"\"\"Set the global attributes for outfile.\r\n",
      "        \r\n",
      "    Note that the global attributes are simply copied from\r\n",
      "    infile and the history attribute updated accordingly.\r\n",
      "        \r\n",
      "    \"\"\"\r\n",
      "        \r\n",
      "    global_atts = {}\r\n",
      "    for att in infile.ncattrs():\r\n",
      "        global_atts[att] = eval('infile.'+att)  \r\n",
      "        \r\n",
      "    new_history = create_history()\r\n",
      "    global_atts['history'] = \"\"\"%s\\n%s\"\"\" %(new_history,  global_atts['history'])\r\n",
      "    outfile.setncatts(global_atts)\r\n",
      "\r\n",
      "\r\n",
      "def write_speed(infile, outfile, spData):\r\n",
      "    \"\"\"Write the current speed data to outfile\"\"\"\r\n",
      "        \r\n",
      "    u = infile.variables['UCUR']   \r\n",
      "    spcur = outfile.createVariable('SPCUR', u.datatype, u.dimensions, fill_value=u._FillValue)\r\n",
      "    spcur[:,:,:] = spData    \r\n",
      "    \r\n",
      "    spcur.standard_name = 'sea_water_speed'\r\n",
      "    spcur.long_name = 'sea water speed'\r\n",
      "    spcur.units = u.units\r\n",
      "    spcur.coordinates = u.coordinates\r\n",
      "    \r\n",
      "\r\n",
      "def main(inargs):\r\n",
      "    \"\"\"Run the program\"\"\"\r\n",
      "    \r\n",
      "    inFile = inargs.infile\r\n",
      "    uVar = inargs.uvar\r\n",
      "    vVar = inargs.vvar\r\n",
      "    outfile_name = inargs.outfile\r\n",
      "\r\n",
      "    # Read input data \r\n",
      "    uData, vData, input_DATA = read_data(inFile, uVar, vVar)\r\n",
      "    \r\n",
      "    # Calculate the current speed\r\n",
      "    spData = calc_speed(uData, vData)\r\n",
      "    \r\n",
      "    # Write the output file\r\n",
      "    outfile = Dataset(outfile_name, 'w', format='NETCDF4')\r\n",
      "    set_global_atts(input_DATA, outfile)\r\n",
      "    copy_dimensions(input_DATA, outfile)\r\n",
      "    copy_variables(input_DATA, outfile)\r\n",
      "    write_speed(input_DATA, outfile, spData) \r\n",
      "    \r\n",
      "    outfile.close()\r\n",
      "\r\n",
      "\r\n",
      "if __name__ == '__main__':\r\n",
      "\r\n",
      "    extra_info =\"\"\"example:\r\n",
      "  python calc_current_speed.py http://thredds.aodn.org.au/thredds/dodsC/IMOS/eMII/demos/ACORN/monthly_gridded_1h-avg-current-map_non-QC/TURQ/2012/IMOS_ACORN_V_20121001T000000Z_TURQ_FV00_monthly-1-hour-avg_END-20121029T180000Z_C-20121030T160000Z.nc.gz UCUR VCUR IMOS_ACORN_SPCUR_20121001T000000Z_TURQ_monthly-1-hour-avg_END-20121029T180000Z.nc \r\n",
      "\r\n",
      "author:\r\n",
      "  Damien Irving, irving.damien@gmail.com\r\n",
      "\r\n",
      "\"\"\"\r\n",
      "\r\n",
      "    description='Calculate the current speed'\r\n",
      "    parser = argparse.ArgumentParser(description=description,\r\n",
      "                                     epilog=extra_info,\r\n",
      "                                     formatter_class=argparse.RawDescriptionHelpFormatter)\r\n",
      "\r\n",
      "    parser.add_argument(\"infile\", type=str, help=\"Input file name\")\r\n",
      "    parser.add_argument(\"uvar\", type=str, help=\"Name of the zonal flow variable\")\r\n",
      "    parser.add_argument(\"vvar\", type=str, help=\"Name of the meridional flow variable\")\r\n",
      "    parser.add_argument(\"outfile\", type=str, help=\"Output file name\")\r\n",
      "\r\n",
      "    args = parser.parse_args()            \r\n",
      "\r\n",
      "    print 'Input file: ', args.infile\r\n",
      "    print 'Output file: ', args.outfile  \r\n",
      "\r\n",
      "    main(args)\r\n",
      "\r\n",
      "\r\n"
     ]
    }
   ],
   "source": [
    "!cat code/calc_current_speed.py"
   ]
  },
  {
   "cell_type": "markdown",
   "metadata": {},
   "source": [
    "> ### Introducing xray\n",
    ">\n",
    "> It took four separate functions in `calc_current_speed.py` to create the output file, \n",
    "because we had to copy the dimensions and most of the global and variable attributes from the original file to the new file. \n",
    "This is such a common problem that a Python library called [xray](http://xray.readthedocs.org/en/stable/) has been developed, \n",
    "which conserves metadata whenever possible. \n",
    "When xray is used to read a netCDF file, \n",
    "the data are stored as an `xray.DataArray` (as opposed to a `numpy.ndarray`).\n",
    "These special data arrays carry their dimension information and variable atributes with them, \n",
    "which means you don't have to retrieve them manually. xray also comes with a bunch of convenience functions for doing typical weather/climate/ocean tasks (calculating climatologies, anomalies, etc), which can be a pain using numpy. \n",
    ">\n",
    "> Similar to Iris and Cartopy, \n",
    "the easiest way to install xray is with the conda package installer. Simply type the following at the command line:  \n",
    "`conda install xray dask netCDF4 bottleneck`"
   ]
  },
  {
   "cell_type": "markdown",
   "metadata": {},
   "source": [
    "Using the help information that the `argparse` library provides, we can now go ahead and run this script at the command line:"
   ]
  },
  {
   "cell_type": "code",
   "execution_count": 18,
   "metadata": {
    "collapsed": false
   },
   "outputs": [
    {
     "name": "stdout",
     "output_type": "stream",
     "text": [
      "usage: calc_current_speed.py [-h] infile uvar vvar outfile\r\n",
      "\r\n",
      "Calculate the current speed\r\n",
      "\r\n",
      "positional arguments:\r\n",
      "  infile      Input file name\r\n",
      "  uvar        Name of the zonal flow variable\r\n",
      "  vvar        Name of the meridional flow variable\r\n",
      "  outfile     Output file name\r\n",
      "\r\n",
      "optional arguments:\r\n",
      "  -h, --help  show this help message and exit\r\n",
      "\r\n",
      "example:\r\n",
      "  python calc_current_speed.py http://thredds.aodn.org.au/thredds/dodsC/IMOS/eMII/demos/ACORN/monthly_gridded_1h-avg-current-map_non-QC/TURQ/2012/IMOS_ACORN_V_20121001T000000Z_TURQ_FV00_monthly-1-hour-avg_END-20121029T180000Z_C-20121030T160000Z.nc.gz UCUR VCUR IMOS_ACORN_SPCUR_20121001T000000Z_TURQ_monthly-1-hour-avg_END-20121029T180000Z.nc \r\n",
      "\r\n",
      "author:\r\n",
      "  Damien Irving, irving.damien@gmail.com\r\n"
     ]
    }
   ],
   "source": [
    "!python code/calc_current_speed.py -h"
   ]
  },
  {
   "cell_type": "code",
   "execution_count": 19,
   "metadata": {
    "collapsed": false
   },
   "outputs": [
    {
     "name": "stdout",
     "output_type": "stream",
     "text": [
      "Input file:  http://thredds.aodn.org.au/thredds/dodsC/IMOS/eMII/demos/ACORN/monthly_gridded_1h-avg-current-map_non-QC/TURQ/2012/IMOS_ACORN_V_20121001T000000Z_TURQ_FV00_monthly-1-hour-avg_END-20121029T180000Z_C-20121030T160000Z.nc.gz\r\n",
      "Output file:  IMOS_ACORN_SPCUR_20121001T000000Z_TURQ_monthly-1-hour-avg_END-20121029T180000Z.nc\r\n"
     ]
    }
   ],
   "source": [
    "!python code/calc_current_speed.py http://thredds.aodn.org.au/thredds/dodsC/IMOS/eMII/demos/ACORN/monthly_gridded_1h-avg-current-map_non-QC/TURQ/2012/IMOS_ACORN_V_20121001T000000Z_TURQ_FV00_monthly-1-hour-avg_END-20121029T180000Z_C-20121030T160000Z.nc.gz UCUR VCUR IMOS_ACORN_SPCUR_20121001T000000Z_TURQ_monthly-1-hour-avg_END-20121029T180000Z.nc "
   ]
  },
  {
   "cell_type": "markdown",
   "metadata": {},
   "source": [
    "## The finished product"
   ]
  },
  {
   "cell_type": "markdown",
   "metadata": {},
   "source": [
    "We can now inspect the attributes in our new file:"
   ]
  },
  {
   "cell_type": "code",
   "execution_count": 20,
   "metadata": {
    "collapsed": false
   },
   "outputs": [
    {
     "name": "stdout",
     "output_type": "stream",
     "text": [
      "netcdf IMOS_ACORN_SPCUR_20121001T000000Z_TURQ_monthly-1-hour-avg_END-20121029T180000Z {\r\n",
      "dimensions:\r\n",
      "\tI = 55 ;\r\n",
      "\tJ = 57 ;\r\n",
      "\tTIME = 493 ;\r\n",
      "variables:\r\n",
      "\tdouble TIME(TIME) ;\r\n",
      "\t\tTIME:_FillValue = -9999. ;\r\n",
      "\t\tTIME:comment = \"Given time lays at the middle of the averaging time period.\" ;\r\n",
      "\t\tTIME:valid_min = 0. ;\r\n",
      "\t\tTIME:long_name = \"time\" ;\r\n",
      "\t\tTIME:standard_name = \"time\" ;\r\n",
      "\t\tTIME:local_time_zone = 8. ;\r\n",
      "\t\tTIME:units = \"days since 1950-01-01 00:00:00\" ;\r\n",
      "\t\tTIME:calendar = \"gregorian\" ;\r\n",
      "\t\tTIME:valid_max = 999999. ;\r\n",
      "\t\tTIME:axis = \"T\" ;\r\n",
      "\tdouble LATITUDE(I, J) ;\r\n",
      "\t\tLATITUDE:_FillValue = 9999. ;\r\n",
      "\t\tLATITUDE:valid_min = -90. ;\r\n",
      "\t\tLATITUDE:reference_datum = \"geographical coordinates, WGS84 projection\" ;\r\n",
      "\t\tLATITUDE:long_name = \"latitude\" ;\r\n",
      "\t\tLATITUDE:standard_name = \"latitude\" ;\r\n",
      "\t\tLATITUDE:units = \"degrees_north\" ;\r\n",
      "\t\tLATITUDE:valid_max = 90. ;\r\n",
      "\t\tLATITUDE:axis = \"Y\" ;\r\n",
      "\tdouble LONGITUDE(I, J) ;\r\n",
      "\t\tLONGITUDE:_FillValue = 9999. ;\r\n",
      "\t\tLONGITUDE:valid_min = -180. ;\r\n",
      "\t\tLONGITUDE:reference_datum = \"geographical coordinates, WGS84 projection\" ;\r\n",
      "\t\tLONGITUDE:long_name = \"longitude\" ;\r\n",
      "\t\tLONGITUDE:standard_name = \"longitude\" ;\r\n",
      "\t\tLONGITUDE:units = \"degrees_east\" ;\r\n",
      "\t\tLONGITUDE:valid_max = 180. ;\r\n",
      "\t\tLONGITUDE:axis = \"X\" ;\r\n",
      "\tfloat SPCUR(TIME, I, J) ;\r\n",
      "\t\tSPCUR:_FillValue = 9999.f ;\r\n",
      "\t\tSPCUR:standard_name = \"sea_water_speed\" ;\r\n",
      "\t\tSPCUR:long_name = \"sea water speed\" ;\r\n",
      "\t\tSPCUR:units = \"m s-1\" ;\r\n",
      "\t\tSPCUR:coordinates = \"TIME LATITUDE LONGITUDE\" ;\r\n",
      "\r\n",
      "// global attributes:\r\n",
      "\t\t:comment = \"These data have not been quality controlled. They represent values calculated using software provided by CODAR Ocean Sensors. The file has been modified by eMII in order to visualise the data using the ncWMS software.This NetCDF file has been created using the IMOS NetCDF User Manual v1.2. A copy of the document is available at http://imos.org.au/facility_manuals.html\" ;\r\n",
      "\t\t:distribution_statement = \"Data may be re-used, provided that related metadata explaining the data has been reviewed by the user, and the data is appropriately acknowledged. Data, products and services from IMOS are provided \\\"as is\\\" without any warranty as to fitness for a particular purpose.\" ;\r\n",
      "\t\t:geospatial_vertical_max = 0. ;\r\n",
      "\t\t:featureType = \"grid\" ;\r\n",
      "\t\t:abstract = \"These data have not been quality controlled. The ACORN facility is producing NetCDF files with radials data for each station every ten minutes.  Radials represent the surface sea water state component  along the radial direction from the receiver antenna  and are calculated from the shift of an area under  the bragg peaks in a Beam Power Spectrum.  The radial values have been calculated using software provided  by the manufacturer of the instrument. eMII is using a Matlab program to read all the netcdf files with radial data for two different stations  and produce a one hour average product with U and V components of the current. The final product is produced on a regular geographic (latitude longitude) grid More information on the data processing is available through the IMOS MEST  http://imosmest.aodn.org.au/geonetwork/srv/en/main.home. This file is an aggregation over a month of distinct hourly averaged files.\" ;\r\n",
      "\t\t:citation = \"Citation to be used in publications should follow the format:\\\"IMOS.[year-of-data-download],[Title],[Data access URL],accessed [date-of-access]\\\"\" ;\r\n",
      "\t\t:geospatial_lat_units = \"degrees_north\" ;\r\n",
      "\t\t:geospatial_lon_units = \"degrees_east\" ;\r\n",
      "\t\t:data_center = \"eMarine Information Infrastructure (eMII)\" ;\r\n",
      "\t\t:keywords = \"Oceans\" ;\r\n",
      "\t\t:id = \"IMOS/ACORN/au/TURQ/2012-10-08T15:00:00Z.sea_state\" ;\r\n",
      "\t\t:naming_authority = \"Integrated Marine Observing System (IMOS)\" ;\r\n",
      "\t\t:institution_references = \"http://www.imos.org.au/acorn.html\" ;\r\n",
      "\t\t:geospatial_lat_max = -29.5252994, -29.5794147, -29.6335296, -29.687644, -29.741758, -29.7958715, -29.8499845, -29.904097, -29.9582091, -30.0123207, -30.0664318, -30.1205425, -30.1746527, -30.2287624, -30.2828717, -30.3369805, -30.3910888, -30.4451966, -30.499304, -30.5534109, -30.6075173, -30.6616232, -30.7157287, -30.7698337, -30.8239382, -30.8780423, -30.9321458, -30.9862489, -31.0403515, -31.0944536, -31.1485553, -31.2026564, -31.2567571, -31.3108573, -31.364957, -31.4190563, -31.473155, -31.5272533, -31.5813511, -31.6354484, -31.6895452, -31.7436416, -31.7977374, -31.8518328, -31.9059277, -31.960022, -32.0141159, -32.0682094, -32.1223023, -32.1763947, -32.2304867, -32.2845781, -32.3386691, -32.3927596, -32.4468495 ;\r\n",
      "\t\t:acknowledgment = \"Data was sourced from the Integrated Marine Observing System (IMOS) - IMOS is supported by the Australian Government through the National Collaborative Research Infrastructure Strategy (NCRIS) and the Super Science Initiative (SSI).\" ;\r\n",
      "\t\t:title = \"IMOS ACORN Turquoise Coast site (WA) (TURQ), monthly aggregation of one hour averaged current data\" ;\r\n",
      "\t\t:author_email = \"laurent.besnard@utas.edu.au\" ;\r\n",
      "\t\t:netcdf_version = \"3.6\" ;\r\n",
      "\t\t:site_code = \"TURQ, Turqoise Coast\" ;\r\n",
      "\t\t:file_version = \"Level 0 - Raw data\" ;\r\n",
      "\t\t:instrument = \"CODAR Ocean Sensors/SeaSonde\" ;\r\n",
      "\t\t:file_version_quality_control = \"Data in this file has not been quality controlled\" ;\r\n",
      "\t\t:acknowledgement = \"Data was sourced from Integrated Marine Observing System (IMOS) - an initiative of the Australian Government being conducted as part of the National Calloborative Research Infrastructure Strategy.\" ;\r\n",
      "\t\t:time_coverage_duration = \"PT1H19M\" ;\r\n",
      "\t\t:local_time_zone = 8. ;\r\n",
      "\t\t:geospatial_lat_min = -29.5386582, -29.5927878, -29.6469169, -29.7010456, -29.7551738, -29.8093016, -29.863429, -29.9175559, -29.9716823, -30.0258084, -30.0799339, -30.1340591, -30.1881837, -30.242308, -30.2964318, -30.3505551, -30.404678, -30.4588004, -30.5129224, -30.5670439, -30.621165, -30.6752857, -30.7294059, -30.7835256, -30.8376449, -30.8917637, -30.9458821, -31., -31.0541175, -31.1082345, -31.162351, -31.2164671, -31.2705828, -31.324698, -31.3788127, -31.432927, -31.4870408, -31.5411542, -31.5952671, -31.6493795, -31.7034915, -31.7576031, -31.8117141, -31.8658247, -31.9199349, -31.9740446, -32.0281538, -32.0822625, -32.1363708, -32.1904787, -32.244586, -32.2986929, -32.3527994, -32.4069054, -32.4610109 ;\r\n",
      "\t\t:time_coverage_start = \"2012-10-01T00:00:00Z\" ;\r\n",
      "\t\t:geospatial_vertical_min = 0. ;\r\n",
      "\t\t:time_coverage_end = \"2012-10-29T18:00:00Z\" ;\r\n",
      "\t\t:data_center_email = \"info@emii.org.au\" ;\r\n",
      "\t\t:institution = \"Australian Coastal Ocean Radar Network (ACORN)\" ;\r\n",
      "\t\t:geospatial_lon_max = 115.7758038, 115.7766744, 115.7775469, 115.7784212, 115.7792975, 115.7801756, 115.7810557, 115.7819376, 115.7828215, 115.7837073, 115.784595, 115.7854846, 115.7863762, 115.7872697, 115.7881651, 115.7890625, 115.7899618, 115.7908631, 115.7917663, 115.7926715, 115.7935787, 115.7944878, 115.7953989, 115.796312, 115.7972271, 115.7981441, 115.7990632, 115.7999843, 115.8009074, 115.8018325, 115.8027596, 115.8036887, 115.8046199, 115.8055531, 115.8064883, 115.8074256, 115.8083649, 115.8093063, 115.8102497, 115.8111952, 115.8121427, 115.8130924, 115.8140441, 115.8149979, 115.8159538, 115.8169118, 115.8178719, 115.8188341, 115.8197984, 115.8207648, 115.8217334, 115.822704, 115.8236768, 115.8246518, 115.8256289 ;\r\n",
      "\t\t:geospatial_lon_min = 112.3100111, 112.3090067, 112.3080002, 112.3069914, 112.3059805, 112.3049674, 112.3039521, 112.3029346, 112.3019149, 112.3008929, 112.2998688, 112.2988424, 112.2978139, 112.2967831, 112.29575, 112.2947147, 112.2936772, 112.2926374, 112.2915953, 112.290551, 112.2895044, 112.2884556, 112.2874044, 112.286351, 112.2852953, 112.2842373, 112.283177, 112.2821143, 112.2810494, 112.2799821, 112.2789125, 112.2778406, 112.2767663, 112.2756897, 112.2746108, 112.2735294, 112.2724458, 112.2713597, 112.2702713, 112.2691805, 112.2680873, 112.2669917, 112.2658937, 112.2647933, 112.2636905, 112.2625853, 112.2614777, 112.2603676, 112.2592551, 112.2581402, 112.2570228, 112.2559029, 112.2547806, 112.2536558, 112.2525286 ;\r\n",
      "\t\t:data_centre_email = \"info@emii.org.au\" ;\r\n",
      "\t\t:date_modified = \"2012-10-30T16:31:50Z\" ;\r\n",
      "\t\t:principal_investigator = \"Wyatt, Lucy\" ;\r\n",
      "\t\t:data_centre = \"eMarine Information Infrastructure (eMII)\" ;\r\n",
      "\t\t:author = \"Besnard, Laurent\" ;\r\n",
      "\t\t:Conventions = \"IMOS version 1.3\" ;\r\n",
      "\t\t:project = \"Integrated Marine Observing System (IMOS)\" ;\r\n",
      "\t\t:quality_control_set = \"1\" ;\r\n",
      "\t\t:source = \"Terrestrial HF radar\" ;\r\n",
      "\t\t:ssr_Stations = \"SeaBird (SBRD), Cervantes (CRVT)\" ;\r\n",
      "\t\t:date_created = \"2012-10-30T16:31:50Z\" ;\r\n",
      "\t\t:geospatial_vertical_units = \"m\" ;\r\n",
      "\t\t:history = \"2015-07-09T14:31:26: /Users/damienirving/anaconda/bin/python code/calc_current_speed.py http://thredds.aodn.org.au/thredds/dodsC/IMOS/eMII/demos/ACORN/monthly_gridded_1h-avg-current-map_non-QC/TURQ/2012/IMOS_ACORN_V_20121001T000000Z_TURQ_FV00_monthly-1-hour-avg_END-20121029T180000Z_C-20121030T160000Z.nc.gz UCUR VCUR IMOS_ACORN_SPCUR_20121001T000000Z_TURQ_monthly-1-hour-avg_END-20121029T180000Z.nc (Git hash: 206d065)\\n2012-10-09T03:31:35 Convert totl_TURQ_2012_10_08_1500.tuv to netcdf format using CODAR_Convert_File.\\n2012-10-09T03:31:36 Write CODAR file totl_TURQ_2012_10_08_1500.tuv. Modification of the NetCDF format by eMII to visualise the data using ncWMS �\\n\\t0x0006 %\" ;\r\n",
      "}\r\n"
     ]
    }
   ],
   "source": [
    "!ncdump -h IMOS_ACORN_SPCUR_20121001T000000Z_TURQ_monthly-1-hour-avg_END-20121029T180000Z.nc"
   ]
  },
  {
   "cell_type": "markdown",
   "metadata": {},
   "source": [
    "There are a lot of global and variable attributes in our output file, \n",
    "because we copied everything from the input file. \n",
    "It might be tempting to edit `calc_current_speed.py` or use the `ncatted` command line utility \n",
    "(which, like `ncdump`, comes with the [NCO](http://nco.sourceforge.net/) install) \n",
    "to start cleaning up (i.e. delete) some of these attributes, \n",
    "but we should resist that urge. \n",
    "The `id` global attribute, for instance, makes little sense to anyone who doesn't work at IMOS. \n",
    "While this might seem like a reasonable argument for deleting that attribute, \n",
    "once an attribute is deleted it's gone forever. \n",
    "The `id` attribute is taking up a negligible amount of memory, \n",
    "so why not just leave it there just in case?\n",
    "When in doubt, keep metadata."
   ]
  },
  {
   "cell_type": "markdown",
   "metadata": {},
   "source": [
    "### Challenge\n",
    "\n",
    "Does your data management plan from the first challenge adequately address this issue of data provenance? \n",
    "If not, go ahead and add to your plan now. \n",
    "Things to consider include:\n",
    "\n",
    "* How to capture and store metadata relating to output files that aren't self describing (i.e. unlike `.nc` files, formats like `.csv` or `.png` don't store things like global and variable attributes within them) \n",
    "\n",
    "Discuss the additions you've made to your plan with your partner."
   ]
  }
 ],
 "metadata": {
  "kernelspec": {
   "display_name": "Python 2",
   "language": "python",
   "name": "python2"
  },
  "language_info": {
   "codemirror_mode": {
    "name": "ipython",
    "version": 2
   },
   "file_extension": ".py",
   "mimetype": "text/x-python",
   "name": "python",
   "nbconvert_exporter": "python",
   "pygments_lexer": "ipython2",
   "version": "2.7.10"
  }
 },
 "nbformat": 4,
 "nbformat_minor": 0
}
